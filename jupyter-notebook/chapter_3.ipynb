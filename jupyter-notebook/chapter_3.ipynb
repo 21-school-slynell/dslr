{
 "cells": [
  {
   "cell_type": "code",
   "execution_count": 25,
   "id": "1c241a99",
   "metadata": {},
   "outputs": [],
   "source": [
    "import pandas as pd\n",
    "import numpy as np\n",
    "from functools import reduce\n",
    "import math\n",
    "import sys\n",
    "import seaborn as sns\n",
    "import matplotlib.pyplot as plt\n",
    "from sklearn.preprocessing import LabelEncoder\n",
    "from sklearn.linear_model import LogisticRegression\n",
    "from sklearn.metrics import roc_curve, auc\n",
    "from sklearn.model_selection import train_test_split\n",
    "from sklearn.metrics import roc_auc_score\n",
    "import random"
   ]
  },
  {
   "cell_type": "markdown",
   "id": "b622a6fb",
   "metadata": {},
   "source": [
    "### Train"
   ]
  },
  {
   "cell_type": "code",
   "execution_count": 70,
   "id": "41dca67e",
   "metadata": {},
   "outputs": [],
   "source": [
    "df = pd.read_csv('../datasets/dataset_train.csv', index_col='Index')\n",
    "df = df.dropna()"
   ]
  },
  {
   "cell_type": "code",
   "execution_count": null,
   "id": "23846ea1",
   "metadata": {},
   "outputs": [],
   "source": []
  },
  {
   "cell_type": "code",
   "execution_count": 71,
   "id": "d6ac7a47",
   "metadata": {},
   "outputs": [
    {
     "data": {
      "text/plain": [
       "array(['Gryffindor', 'Hufflepuff', 'Ravenclaw', 'Slytherin'], dtype=object)"
      ]
     },
     "execution_count": 71,
     "metadata": {},
     "output_type": "execute_result"
    }
   ],
   "source": [
    "current_target = 'Hogwarts House'\n",
    "y = df[current_target]\n",
    "labelTransform = LabelEncoder()\n",
    "labelTransform.fit(y)\n",
    "y = labelTransform.transform(y)\n",
    "labelTransform.inverse_transform(list(set(y)))"
   ]
  },
  {
   "cell_type": "code",
   "execution_count": 72,
   "id": "c630a901",
   "metadata": {},
   "outputs": [],
   "source": [
    "remove_feat = ['Arithmancy', 'Index', 'Astronomy', 'Potions', 'Care of Magical Creatures', 'Hogwarts House']\n",
    "feat = list(set(df.describe().columns) - set(feat))"
   ]
  },
  {
   "cell_type": "code",
   "execution_count": 73,
   "id": "3cad8cea",
   "metadata": {},
   "outputs": [],
   "source": [
    "X = df[feat]\n",
    "X = X.fillna(X.mean())\n",
    "X = (X - X.mean()) / X.std()"
   ]
  },
  {
   "cell_type": "code",
   "execution_count": 74,
   "id": "69cb22cd",
   "metadata": {},
   "outputs": [],
   "source": [
    "class SlyLogRegression():\n",
    "\n",
    "    def __init__(self, lr=0.01, weight = []):\n",
    "        self.weight = weight\n",
    "        self.n_epochs = 1000\n",
    "        self.lr = lr\n",
    "    \n",
    "    def _sigmoid(self, x):\n",
    "        return 1 / (1 + np.exp(-x))\n",
    "    \n",
    "    def _get_selection(self, X, y, is_sgd):\n",
    "        x_train = X\n",
    "        y_train = y\n",
    "        m = len(x_train)\n",
    "        if(is_sgd):\n",
    "            r = random.randint(0,len(y) - 1)\n",
    "            x_train = X[r]\n",
    "            y_train = y_train[r]\n",
    "            m = 1\n",
    "        return x_train, y_train, m\n",
    "    \n",
    "    def fit(self, X, y, is_sgd=False):\n",
    "        X = np.array(X)\n",
    "        X = np.insert(X, 0, 1, axis=1)\n",
    "        theta = []\n",
    "        for class_marker in np.unique(y):\n",
    "            y_copy = np.where(y == class_marker, 1, 0)\n",
    "            w = np.ones(X.shape[1])\n",
    "            theta.append(w)\n",
    "            for i in range(len(y)):\n",
    "                x_train, y_train, m = self._get_selection(X, y_copy, is_sgd)\n",
    "                \n",
    "                hypothesis = self._sigmoid(x_train.dot(theta[class_marker]))\n",
    "                loss = hypothesis - y_train\n",
    "                gradient = np.dot(x_train.transpose(), loss) / m\n",
    "                \n",
    "                theta[class_marker] = theta[class_marker] - self.lr * gradient\n",
    "        self.weight = theta\n",
    "        \n",
    "    def predict(self, X):\n",
    "        return np.array(self._predict(X)[0])\n",
    "\n",
    "    def predict_proba(self, X):\n",
    "        return np.array(self._predict(X)[1])\n",
    "\n",
    "    \n",
    "    def _predict(self, X):\n",
    "        result =  []\n",
    "        result_pre = []\n",
    "        X = np.array(X)\n",
    "        X = np.insert(X, 0, 1, axis=1)\n",
    "        if(len(self.weight) == 0):\n",
    "            print('Weight is empty')\n",
    "            return\n",
    "        for i in range(len(X)):\n",
    "            pre = []\n",
    "            for j in range(len(self.weight)):\n",
    "                pre.append(self._sigmoid(X[i].dot(self.weight[j])))\n",
    "            result.append(pre.index(max(pre)))\n",
    "            result_pre.append(pre / sum(pre))\n",
    "        return result, result_pre\n",
    "    \n",
    "    def score(self, X, y):\n",
    "        return sum(self.predict(X) == y) / len(y)\n"
   ]
  },
  {
   "cell_type": "code",
   "execution_count": 75,
   "id": "86d310d4",
   "metadata": {},
   "outputs": [
    {
     "data": {
      "text/plain": [
       "0.9832134292565947"
      ]
     },
     "execution_count": 75,
     "metadata": {},
     "output_type": "execute_result"
    }
   ],
   "source": [
    "model = SlyLogRegression(lr=0.1)\n",
    "model.fit(X, y, False)\n",
    "model.score(X, y)"
   ]
  },
  {
   "cell_type": "code",
   "execution_count": 76,
   "id": "4d6ff61a",
   "metadata": {},
   "outputs": [
    {
     "data": {
      "text/plain": [
       "0.9832134292565947"
      ]
     },
     "execution_count": 76,
     "metadata": {},
     "output_type": "execute_result"
    }
   ],
   "source": [
    "trainX, testX, trainy, testy = train_test_split(X, y, test_size=0.5, random_state=2)\n",
    "clf = LogisticRegression()\n",
    "clf.fit(trainX, trainy)\n",
    "clf.score(X, y)"
   ]
  },
  {
   "cell_type": "markdown",
   "id": "2f797e25",
   "metadata": {},
   "source": [
    "#### SlyLogRegression"
   ]
  },
  {
   "cell_type": "code",
   "execution_count": 77,
   "id": "f58e90e1",
   "metadata": {},
   "outputs": [
    {
     "data": {
      "text/plain": [
       "0.9889935180812705"
      ]
     },
     "execution_count": 77,
     "metadata": {},
     "output_type": "execute_result"
    }
   ],
   "source": [
    "roc_auc_score(y, model.predict_proba(X), multi_class='ovr')"
   ]
  },
  {
   "cell_type": "markdown",
   "id": "443bfc5b",
   "metadata": {},
   "source": [
    "#### ROC AUC LogisticRegression"
   ]
  },
  {
   "cell_type": "code",
   "execution_count": 78,
   "id": "32af33ee",
   "metadata": {},
   "outputs": [
    {
     "data": {
      "text/plain": [
       "0.9904339439058943"
      ]
     },
     "execution_count": 78,
     "metadata": {},
     "output_type": "execute_result"
    }
   ],
   "source": [
    "roc_auc_score(y, clf.predict_proba(X), multi_class='ovr')"
   ]
  },
  {
   "cell_type": "markdown",
   "id": "3286fe86",
   "metadata": {},
   "source": [
    "### Predict"
   ]
  },
  {
   "cell_type": "code",
   "execution_count": 79,
   "id": "511c8f88",
   "metadata": {},
   "outputs": [
    {
     "data": {
      "text/html": [
       "<div>\n",
       "<style scoped>\n",
       "    .dataframe tbody tr th:only-of-type {\n",
       "        vertical-align: middle;\n",
       "    }\n",
       "\n",
       "    .dataframe tbody tr th {\n",
       "        vertical-align: top;\n",
       "    }\n",
       "\n",
       "    .dataframe thead th {\n",
       "        text-align: right;\n",
       "    }\n",
       "</style>\n",
       "<table border=\"1\" class=\"dataframe\">\n",
       "  <thead>\n",
       "    <tr style=\"text-align: right;\">\n",
       "      <th></th>\n",
       "      <th>Flying</th>\n",
       "      <th>Charms</th>\n",
       "      <th>Divination</th>\n",
       "      <th>History of Magic</th>\n",
       "      <th>Ancient Runes</th>\n",
       "      <th>Muggle Studies</th>\n",
       "      <th>Transfiguration</th>\n",
       "      <th>Herbology</th>\n",
       "      <th>Defense Against the Dark Arts</th>\n",
       "    </tr>\n",
       "    <tr>\n",
       "      <th>Index</th>\n",
       "      <th></th>\n",
       "      <th></th>\n",
       "      <th></th>\n",
       "      <th></th>\n",
       "      <th></th>\n",
       "      <th></th>\n",
       "      <th></th>\n",
       "      <th></th>\n",
       "      <th></th>\n",
       "    </tr>\n",
       "  </thead>\n",
       "  <tbody>\n",
       "    <tr>\n",
       "      <th>0</th>\n",
       "      <td>-0.388581</td>\n",
       "      <td>-0.149030</td>\n",
       "      <td>1.187244e+00</td>\n",
       "      <td>3.236512e-01</td>\n",
       "      <td>-1.021526</td>\n",
       "      <td>-0.295044</td>\n",
       "      <td>0.354603</td>\n",
       "      <td>0.327907</td>\n",
       "      <td>-1.267591e+00</td>\n",
       "    </tr>\n",
       "    <tr>\n",
       "      <th>1</th>\n",
       "      <td>-0.521374</td>\n",
       "      <td>1.362307</td>\n",
       "      <td>7.607621e-01</td>\n",
       "      <td>8.527038e-01</td>\n",
       "      <td>1.062428</td>\n",
       "      <td>1.511520</td>\n",
       "      <td>0.383924</td>\n",
       "      <td>0.316885</td>\n",
       "      <td>8.379975e-01</td>\n",
       "    </tr>\n",
       "    <tr>\n",
       "      <th>2</th>\n",
       "      <td>1.857234</td>\n",
       "      <td>-1.124339</td>\n",
       "      <td>3.127872e-01</td>\n",
       "      <td>-1.972064e+00</td>\n",
       "      <td>0.915546</td>\n",
       "      <td>-0.834167</td>\n",
       "      <td>-2.112116</td>\n",
       "      <td>-1.518761</td>\n",
       "      <td>-5.259718e-01</td>\n",
       "    </tr>\n",
       "    <tr>\n",
       "      <th>3</th>\n",
       "      <td>-0.362632</td>\n",
       "      <td>-0.095734</td>\n",
       "      <td>-1.149947e-16</td>\n",
       "      <td>1.043128e-16</td>\n",
       "      <td>-0.678083</td>\n",
       "      <td>-0.466043</td>\n",
       "      <td>0.279800</td>\n",
       "      <td>0.717520</td>\n",
       "      <td>2.191005e-17</td>\n",
       "    </tr>\n",
       "    <tr>\n",
       "      <th>4</th>\n",
       "      <td>-0.320294</td>\n",
       "      <td>-0.093610</td>\n",
       "      <td>3.819255e-01</td>\n",
       "      <td>1.092963e-02</td>\n",
       "      <td>-1.095313</td>\n",
       "      <td>-0.467167</td>\n",
       "      <td>0.458259</td>\n",
       "      <td>0.471832</td>\n",
       "      <td>-4.628870e-01</td>\n",
       "    </tr>\n",
       "  </tbody>\n",
       "</table>\n",
       "</div>"
      ],
      "text/plain": [
       "         Flying    Charms    Divination  History of Magic  Ancient Runes  \\\n",
       "Index                                                                      \n",
       "0     -0.388581 -0.149030  1.187244e+00      3.236512e-01      -1.021526   \n",
       "1     -0.521374  1.362307  7.607621e-01      8.527038e-01       1.062428   \n",
       "2      1.857234 -1.124339  3.127872e-01     -1.972064e+00       0.915546   \n",
       "3     -0.362632 -0.095734 -1.149947e-16      1.043128e-16      -0.678083   \n",
       "4     -0.320294 -0.093610  3.819255e-01      1.092963e-02      -1.095313   \n",
       "\n",
       "       Muggle Studies  Transfiguration  Herbology  \\\n",
       "Index                                               \n",
       "0           -0.295044         0.354603   0.327907   \n",
       "1            1.511520         0.383924   0.316885   \n",
       "2           -0.834167        -2.112116  -1.518761   \n",
       "3           -0.466043         0.279800   0.717520   \n",
       "4           -0.467167         0.458259   0.471832   \n",
       "\n",
       "       Defense Against the Dark Arts  \n",
       "Index                                 \n",
       "0                      -1.267591e+00  \n",
       "1                       8.379975e-01  \n",
       "2                      -5.259718e-01  \n",
       "3                       2.191005e-17  \n",
       "4                      -4.628870e-01  "
      ]
     },
     "execution_count": 79,
     "metadata": {},
     "output_type": "execute_result"
    }
   ],
   "source": [
    "df = pd.read_csv('../datasets/dataset_test.csv', index_col='Index')\n",
    "remove_feat = ['Arithmancy', 'Index', 'Astronomy', 'Potions', 'Care of Magical Creatures', 'Hogwarts House']\n",
    "feat = list(set(df.describe().columns) - set(remove_feat))\n",
    "X = df[feat]\n",
    "X = X.fillna(X.mean())\n",
    "X = (X - X.mean()) / X.std()\n",
    "X.head()"
   ]
  },
  {
   "cell_type": "code",
   "execution_count": null,
   "id": "5f7e0cd7",
   "metadata": {},
   "outputs": [],
   "source": []
  },
  {
   "cell_type": "code",
   "execution_count": 48,
   "id": "57d87368",
   "metadata": {},
   "outputs": [
    {
     "data": {
      "text/html": [
       "<div>\n",
       "<style scoped>\n",
       "    .dataframe tbody tr th:only-of-type {\n",
       "        vertical-align: middle;\n",
       "    }\n",
       "\n",
       "    .dataframe tbody tr th {\n",
       "        vertical-align: top;\n",
       "    }\n",
       "\n",
       "    .dataframe thead th {\n",
       "        text-align: right;\n",
       "    }\n",
       "</style>\n",
       "<table border=\"1\" class=\"dataframe\">\n",
       "  <thead>\n",
       "    <tr style=\"text-align: right;\">\n",
       "      <th>Index</th>\n",
       "      <th>0</th>\n",
       "      <th>1</th>\n",
       "      <th>2</th>\n",
       "      <th>3</th>\n",
       "      <th>4</th>\n",
       "      <th>5</th>\n",
       "      <th>6</th>\n",
       "      <th>7</th>\n",
       "      <th>8</th>\n",
       "      <th>9</th>\n",
       "    </tr>\n",
       "  </thead>\n",
       "  <tbody>\n",
       "    <tr>\n",
       "      <th>Gryffindor</th>\n",
       "      <td>-1.013916</td>\n",
       "      <td>0.174033</td>\n",
       "      <td>-0.225937</td>\n",
       "      <td>-0.631153</td>\n",
       "      <td>-0.346494</td>\n",
       "      <td>0.739509</td>\n",
       "      <td>0.465944</td>\n",
       "      <td>-0.342762</td>\n",
       "      <td>1.831229</td>\n",
       "      <td>-0.776924</td>\n",
       "    </tr>\n",
       "    <tr>\n",
       "      <th>Hufflepuff</th>\n",
       "      <td>-0.641345</td>\n",
       "      <td>-0.732853</td>\n",
       "      <td>1.043831</td>\n",
       "      <td>0.871927</td>\n",
       "      <td>0.934603</td>\n",
       "      <td>-0.856899</td>\n",
       "      <td>0.830943</td>\n",
       "      <td>-0.830595</td>\n",
       "      <td>0.795120</td>\n",
       "      <td>-0.557092</td>\n",
       "    </tr>\n",
       "    <tr>\n",
       "      <th>Ravenclaw</th>\n",
       "      <td>-0.126013</td>\n",
       "      <td>1.627466</td>\n",
       "      <td>0.763418</td>\n",
       "      <td>0.579263</td>\n",
       "      <td>0.838942</td>\n",
       "      <td>1.426903</td>\n",
       "      <td>0.609968</td>\n",
       "      <td>1.450913</td>\n",
       "      <td>0.994281</td>\n",
       "      <td>1.065516</td>\n",
       "    </tr>\n",
       "    <tr>\n",
       "      <th>Slytherin</th>\n",
       "      <td>-1.346227</td>\n",
       "      <td>1.092801</td>\n",
       "      <td>0.729816</td>\n",
       "      <td>-0.710325</td>\n",
       "      <td>0.772636</td>\n",
       "      <td>-0.189916</td>\n",
       "      <td>-0.902062</td>\n",
       "      <td>-0.377365</td>\n",
       "      <td>0.639195</td>\n",
       "      <td>-0.732261</td>\n",
       "    </tr>\n",
       "  </tbody>\n",
       "</table>\n",
       "</div>"
      ],
      "text/plain": [
       "Index              0         1         2         3         4         5  \\\n",
       "Gryffindor -1.013916  0.174033 -0.225937 -0.631153 -0.346494  0.739509   \n",
       "Hufflepuff -0.641345 -0.732853  1.043831  0.871927  0.934603 -0.856899   \n",
       "Ravenclaw  -0.126013  1.627466  0.763418  0.579263  0.838942  1.426903   \n",
       "Slytherin  -1.346227  1.092801  0.729816 -0.710325  0.772636 -0.189916   \n",
       "\n",
       "Index              6         7         8         9  \n",
       "Gryffindor  0.465944 -0.342762  1.831229 -0.776924  \n",
       "Hufflepuff  0.830943 -0.830595  0.795120 -0.557092  \n",
       "Ravenclaw   0.609968  1.450913  0.994281  1.065516  \n",
       "Slytherin  -0.902062 -0.377365  0.639195 -0.732261  "
      ]
     },
     "execution_count": 48,
     "metadata": {},
     "output_type": "execute_result"
    }
   ],
   "source": [
    "weight = pd.read_csv('../weight.csv', index_col=\"Index\")\n",
    "labelTransform = LabelEncoder()\n",
    "labelTransform.fit(weight.columns)\n",
    "weight.T"
   ]
  },
  {
   "cell_type": "code",
   "execution_count": 49,
   "id": "b7365943",
   "metadata": {},
   "outputs": [
    {
     "ename": "ValueError",
     "evalue": "shapes (6,) and (10,) not aligned: 6 (dim 0) != 10 (dim 0)",
     "output_type": "error",
     "traceback": [
      "\u001b[0;31m---------------------------------------------------------------------------\u001b[0m",
      "\u001b[0;31mValueError\u001b[0m                                Traceback (most recent call last)",
      "\u001b[0;32m/var/folders/n9/pnzh0r2j6rx4jgkbfwdqblvw0000gn/T/ipykernel_61944/13213052.py\u001b[0m in \u001b[0;36m<module>\u001b[0;34m\u001b[0m\n\u001b[1;32m      1\u001b[0m \u001b[0mmodel\u001b[0m \u001b[0;34m=\u001b[0m \u001b[0mSlyLogRegression\u001b[0m\u001b[0;34m(\u001b[0m\u001b[0mlr\u001b[0m\u001b[0;34m=\u001b[0m\u001b[0;36m0.01\u001b[0m\u001b[0;34m,\u001b[0m \u001b[0mweight\u001b[0m\u001b[0;34m=\u001b[0m\u001b[0mnp\u001b[0m\u001b[0;34m.\u001b[0m\u001b[0marray\u001b[0m\u001b[0;34m(\u001b[0m\u001b[0mweight\u001b[0m\u001b[0;34m.\u001b[0m\u001b[0mT\u001b[0m\u001b[0;34m)\u001b[0m\u001b[0;34m)\u001b[0m\u001b[0;34m\u001b[0m\u001b[0;34m\u001b[0m\u001b[0m\n\u001b[0;32m----> 2\u001b[0;31m \u001b[0mresult\u001b[0m \u001b[0;34m=\u001b[0m \u001b[0mlabelTransform\u001b[0m\u001b[0;34m.\u001b[0m\u001b[0minverse_transform\u001b[0m\u001b[0;34m(\u001b[0m\u001b[0mmodel\u001b[0m\u001b[0;34m.\u001b[0m\u001b[0mpredict\u001b[0m\u001b[0;34m(\u001b[0m\u001b[0mX\u001b[0m\u001b[0;34m)\u001b[0m\u001b[0;34m)\u001b[0m\u001b[0;34m\u001b[0m\u001b[0;34m\u001b[0m\u001b[0m\n\u001b[0m\u001b[1;32m      3\u001b[0m \u001b[0mdf_result\u001b[0m \u001b[0;34m=\u001b[0m \u001b[0mpd\u001b[0m\u001b[0;34m.\u001b[0m\u001b[0mDataFrame\u001b[0m\u001b[0;34m(\u001b[0m\u001b[0mresult\u001b[0m\u001b[0;34m,\u001b[0m \u001b[0mcolumns\u001b[0m\u001b[0;34m=\u001b[0m\u001b[0;34m[\u001b[0m\u001b[0mcurrent_target\u001b[0m\u001b[0;34m]\u001b[0m\u001b[0;34m)\u001b[0m\u001b[0;34m\u001b[0m\u001b[0;34m\u001b[0m\u001b[0m\n\u001b[1;32m      4\u001b[0m \u001b[0mdf_result\u001b[0m\u001b[0;34m.\u001b[0m\u001b[0mto_csv\u001b[0m\u001b[0;34m(\u001b[0m\u001b[0;34m'./houses.csv'\u001b[0m\u001b[0;34m,\u001b[0m \u001b[0mindex_label\u001b[0m\u001b[0;34m=\u001b[0m\u001b[0;34m\"Index\"\u001b[0m\u001b[0;34m)\u001b[0m\u001b[0;34m\u001b[0m\u001b[0;34m\u001b[0m\u001b[0m\n",
      "\u001b[0;32m/var/folders/n9/pnzh0r2j6rx4jgkbfwdqblvw0000gn/T/ipykernel_61944/1979587586.py\u001b[0m in \u001b[0;36mpredict\u001b[0;34m(self, X)\u001b[0m\n\u001b[1;32m     39\u001b[0m \u001b[0;34m\u001b[0m\u001b[0m\n\u001b[1;32m     40\u001b[0m     \u001b[0;32mdef\u001b[0m \u001b[0mpredict\u001b[0m\u001b[0;34m(\u001b[0m\u001b[0mself\u001b[0m\u001b[0;34m,\u001b[0m \u001b[0mX\u001b[0m\u001b[0;34m)\u001b[0m\u001b[0;34m:\u001b[0m\u001b[0;34m\u001b[0m\u001b[0;34m\u001b[0m\u001b[0m\n\u001b[0;32m---> 41\u001b[0;31m         \u001b[0;32mreturn\u001b[0m \u001b[0mnp\u001b[0m\u001b[0;34m.\u001b[0m\u001b[0marray\u001b[0m\u001b[0;34m(\u001b[0m\u001b[0mself\u001b[0m\u001b[0;34m.\u001b[0m\u001b[0m_predict\u001b[0m\u001b[0;34m(\u001b[0m\u001b[0mX\u001b[0m\u001b[0;34m)\u001b[0m\u001b[0;34m[\u001b[0m\u001b[0;36m0\u001b[0m\u001b[0;34m]\u001b[0m\u001b[0;34m)\u001b[0m\u001b[0;34m\u001b[0m\u001b[0;34m\u001b[0m\u001b[0m\n\u001b[0m\u001b[1;32m     42\u001b[0m \u001b[0;34m\u001b[0m\u001b[0m\n\u001b[1;32m     43\u001b[0m     \u001b[0;32mdef\u001b[0m \u001b[0mpredict_proba\u001b[0m\u001b[0;34m(\u001b[0m\u001b[0mself\u001b[0m\u001b[0;34m,\u001b[0m \u001b[0mX\u001b[0m\u001b[0;34m)\u001b[0m\u001b[0;34m:\u001b[0m\u001b[0;34m\u001b[0m\u001b[0;34m\u001b[0m\u001b[0m\n",
      "\u001b[0;32m/var/folders/n9/pnzh0r2j6rx4jgkbfwdqblvw0000gn/T/ipykernel_61944/1979587586.py\u001b[0m in \u001b[0;36m_predict\u001b[0;34m(self, X)\u001b[0m\n\u001b[1;32m     56\u001b[0m             \u001b[0mpre\u001b[0m \u001b[0;34m=\u001b[0m \u001b[0;34m[\u001b[0m\u001b[0;34m]\u001b[0m\u001b[0;34m\u001b[0m\u001b[0;34m\u001b[0m\u001b[0m\n\u001b[1;32m     57\u001b[0m             \u001b[0;32mfor\u001b[0m \u001b[0mj\u001b[0m \u001b[0;32min\u001b[0m \u001b[0mrange\u001b[0m\u001b[0;34m(\u001b[0m\u001b[0mlen\u001b[0m\u001b[0;34m(\u001b[0m\u001b[0mself\u001b[0m\u001b[0;34m.\u001b[0m\u001b[0mweight\u001b[0m\u001b[0;34m)\u001b[0m\u001b[0;34m)\u001b[0m\u001b[0;34m:\u001b[0m\u001b[0;34m\u001b[0m\u001b[0;34m\u001b[0m\u001b[0m\n\u001b[0;32m---> 58\u001b[0;31m                 \u001b[0mpre\u001b[0m\u001b[0;34m.\u001b[0m\u001b[0mappend\u001b[0m\u001b[0;34m(\u001b[0m\u001b[0mself\u001b[0m\u001b[0;34m.\u001b[0m\u001b[0m_sigmoid\u001b[0m\u001b[0;34m(\u001b[0m\u001b[0mX\u001b[0m\u001b[0;34m[\u001b[0m\u001b[0mi\u001b[0m\u001b[0;34m]\u001b[0m\u001b[0;34m.\u001b[0m\u001b[0mdot\u001b[0m\u001b[0;34m(\u001b[0m\u001b[0mself\u001b[0m\u001b[0;34m.\u001b[0m\u001b[0mweight\u001b[0m\u001b[0;34m[\u001b[0m\u001b[0mj\u001b[0m\u001b[0;34m]\u001b[0m\u001b[0;34m)\u001b[0m\u001b[0;34m)\u001b[0m\u001b[0;34m)\u001b[0m\u001b[0;34m\u001b[0m\u001b[0;34m\u001b[0m\u001b[0m\n\u001b[0m\u001b[1;32m     59\u001b[0m             \u001b[0mresult\u001b[0m\u001b[0;34m.\u001b[0m\u001b[0mappend\u001b[0m\u001b[0;34m(\u001b[0m\u001b[0mpre\u001b[0m\u001b[0;34m.\u001b[0m\u001b[0mindex\u001b[0m\u001b[0;34m(\u001b[0m\u001b[0mmax\u001b[0m\u001b[0;34m(\u001b[0m\u001b[0mpre\u001b[0m\u001b[0;34m)\u001b[0m\u001b[0;34m)\u001b[0m\u001b[0;34m)\u001b[0m\u001b[0;34m\u001b[0m\u001b[0;34m\u001b[0m\u001b[0m\n\u001b[1;32m     60\u001b[0m             \u001b[0mresult_pre\u001b[0m\u001b[0;34m.\u001b[0m\u001b[0mappend\u001b[0m\u001b[0;34m(\u001b[0m\u001b[0mpre\u001b[0m \u001b[0;34m/\u001b[0m \u001b[0msum\u001b[0m\u001b[0;34m(\u001b[0m\u001b[0mpre\u001b[0m\u001b[0;34m)\u001b[0m\u001b[0;34m)\u001b[0m\u001b[0;34m\u001b[0m\u001b[0;34m\u001b[0m\u001b[0m\n",
      "\u001b[0;31mValueError\u001b[0m: shapes (6,) and (10,) not aligned: 6 (dim 0) != 10 (dim 0)"
     ]
    }
   ],
   "source": [
    "model = SlyLogRegression(lr=0.01, weight=np.array(weight.T))\n",
    "result = labelTransform.inverse_transform(model.predict(X))\n",
    "df_result = pd.DataFrame(result, columns=[current_target])\n",
    "df_result.to_csv('./houses.csv', index_label=\"Index\")"
   ]
  }
 ],
 "metadata": {
  "kernelspec": {
   "display_name": "Python 3 (ipykernel)",
   "language": "python",
   "name": "python3"
  },
  "language_info": {
   "codemirror_mode": {
    "name": "ipython",
    "version": 3
   },
   "file_extension": ".py",
   "mimetype": "text/x-python",
   "name": "python",
   "nbconvert_exporter": "python",
   "pygments_lexer": "ipython3",
   "version": "3.9.5"
  }
 },
 "nbformat": 4,
 "nbformat_minor": 5
}
