{
 "cells": [
  {
   "cell_type": "code",
   "execution_count": 169,
   "id": "1c241a99",
   "metadata": {},
   "outputs": [],
   "source": [
    "import pandas as pd\n",
    "import numpy as np\n",
    "from functools import reduce\n",
    "import math\n",
    "import sys\n",
    "import seaborn as sns\n",
    "import matplotlib.pyplot as plt\n",
    "from sklearn.preprocessing import LabelEncoder\n",
    "from sklearn.linear_model import LogisticRegression\n",
    "from sklearn.metrics import roc_curve, auc\n",
    "from sklearn.model_selection import train_test_split\n",
    "from sklearn.metrics import roc_auc_score\n",
    "import random"
   ]
  },
  {
   "cell_type": "markdown",
   "id": "b622a6fb",
   "metadata": {},
   "source": [
    "### Train"
   ]
  },
  {
   "cell_type": "code",
   "execution_count": 154,
   "id": "41dca67e",
   "metadata": {},
   "outputs": [],
   "source": [
    "df = pd.read_csv('../datasets/dataset_train.csv', index_col='Index')\n",
    "df = df.dropna()"
   ]
  },
  {
   "cell_type": "code",
   "execution_count": 155,
   "id": "d6ac7a47",
   "metadata": {},
   "outputs": [
    {
     "data": {
      "text/plain": [
       "array(['Gryffindor', 'Hufflepuff', 'Ravenclaw', 'Slytherin'], dtype=object)"
      ]
     },
     "execution_count": 155,
     "metadata": {},
     "output_type": "execute_result"
    }
   ],
   "source": [
    "current_target = 'Hogwarts House'\n",
    "y = df[current_target]\n",
    "labelTransform = LabelEncoder()\n",
    "labelTransform.fit(y)\n",
    "y = labelTransform.transform(y)\n",
    "labelTransform.inverse_transform(list(set(y)))"
   ]
  },
  {
   "cell_type": "code",
   "execution_count": 156,
   "id": "3cad8cea",
   "metadata": {},
   "outputs": [],
   "source": [
    "X = df[df.describe().columns[1:]]\n",
    "X = X.fillna(X.mean())\n",
    "X = (X - X.mean()) / X.std()"
   ]
  },
  {
   "cell_type": "code",
   "execution_count": 205,
   "id": "69cb22cd",
   "metadata": {},
   "outputs": [],
   "source": [
    "class SlyLogRegression():\n",
    "\n",
    "    def __init__(self, lr=0.01, weight = []):\n",
    "        self.weight = weight\n",
    "        self.n_epochs = 1000\n",
    "        self.lr = lr\n",
    "    \n",
    "    def _sigmoid(self, x):\n",
    "        return 1 / (1 + np.exp(-x))\n",
    "    \n",
    "    def _get_selection(self, X, y, is_sgd):\n",
    "        x_train = X\n",
    "        y_train = y\n",
    "        m = len(x_train)\n",
    "        if(is_sgd):\n",
    "            r = random.randint(0,len(y) - 1)\n",
    "            x_train = X[r]\n",
    "            y_train = y_train[r]\n",
    "            m = 1\n",
    "        return x_train, y_train, m\n",
    "    \n",
    "    def fit(self, X, y, is_sgd=False):\n",
    "        X = np.array(X)\n",
    "        X = np.insert(X, 0, 1, axis=1)\n",
    "        theta = []\n",
    "        for class_marker in np.unique(y):\n",
    "            y_copy = np.where(y == class_marker, 1, 0)\n",
    "            w = np.ones(X.shape[1])\n",
    "            theta.append(w)\n",
    "            for i in range(len(y)):\n",
    "                x_train, y_train, m = self._get_selection(X, y_copy, is_sgd)\n",
    "                \n",
    "                hypothesis = self._sigmoid(x_train.dot(theta[class_marker]))\n",
    "                loss = hypothesis - y_train\n",
    "                gradient = np.dot(x_train.transpose(), loss) / m\n",
    "                \n",
    "                theta[class_marker] = theta[class_marker] - self.lr * gradient\n",
    "        self.weight = theta\n",
    "        \n",
    "    def predict(self, X):\n",
    "        return np.array(self._predict(X)[0])\n",
    "\n",
    "    def predict_proba(self, X):\n",
    "        return np.array(self._predict(X)[1])\n",
    "\n",
    "    \n",
    "    def _predict(self, X):\n",
    "        result =  []\n",
    "        result_pre = []\n",
    "        X = np.array(X)\n",
    "        X = np.insert(X, 0, 1, axis=1)\n",
    "        if(len(self.weight) == 0):\n",
    "            print('Weight is empty')\n",
    "            return\n",
    "        for i in range(len(X)):\n",
    "            pre = []\n",
    "            for j in range(len(self.weight)):\n",
    "                pre.append(self._sigmoid(X[i].dot(self.weight[j])))\n",
    "            result.append(pre.index(max(pre)))\n",
    "            result_pre.append(pre / sum(pre))\n",
    "        return result, result_pre\n",
    "    \n",
    "    def score(self, X, y):\n",
    "        return sum(self.predict(X) == y) / len(y)\n"
   ]
  },
  {
   "cell_type": "code",
   "execution_count": 206,
   "id": "66d9e5d9",
   "metadata": {},
   "outputs": [
    {
     "data": {
      "text/plain": [
       "0.9832134292565947"
      ]
     },
     "execution_count": 206,
     "metadata": {},
     "output_type": "execute_result"
    }
   ],
   "source": [
    "model = SlyLogRegression(lr=0.01)\n",
    "model.fit(X, y, False)\n",
    "model.score(X, y)"
   ]
  },
  {
   "cell_type": "code",
   "execution_count": 211,
   "id": "4d6ff61a",
   "metadata": {},
   "outputs": [
    {
     "data": {
      "text/plain": [
       "0.9832134292565947"
      ]
     },
     "execution_count": 211,
     "metadata": {},
     "output_type": "execute_result"
    }
   ],
   "source": [
    "trainX, testX, trainy, testy = train_test_split(X, y, test_size=0.5, random_state=2)\n",
    "clf = LogisticRegression()\n",
    "clf.fit(trainX, trainy)\n",
    "clf.score(X, y)"
   ]
  },
  {
   "cell_type": "markdown",
   "id": "2f797e25",
   "metadata": {},
   "source": [
    "#### SlyLogRegression"
   ]
  },
  {
   "cell_type": "code",
   "execution_count": 223,
   "id": "f58e90e1",
   "metadata": {},
   "outputs": [
    {
     "data": {
      "text/plain": [
       "0.9897478168091359"
      ]
     },
     "execution_count": 223,
     "metadata": {},
     "output_type": "execute_result"
    }
   ],
   "source": [
    "roc_auc_score(y, model.predict_proba(X), multi_class='ovr')"
   ]
  },
  {
   "cell_type": "markdown",
   "id": "443bfc5b",
   "metadata": {},
   "source": [
    "#### ROC AUC LogisticRegression"
   ]
  },
  {
   "cell_type": "code",
   "execution_count": 224,
   "id": "32af33ee",
   "metadata": {},
   "outputs": [
    {
     "data": {
      "text/plain": [
       "0.9911577170489928"
      ]
     },
     "execution_count": 224,
     "metadata": {},
     "output_type": "execute_result"
    }
   ],
   "source": [
    "roc_auc_score(y, clf.predict_proba(X), multi_class='ovr')"
   ]
  },
  {
   "cell_type": "markdown",
   "id": "3286fe86",
   "metadata": {},
   "source": [
    "### Predict"
   ]
  },
  {
   "cell_type": "code",
   "execution_count": 143,
   "id": "511c8f88",
   "metadata": {},
   "outputs": [],
   "source": [
    "df = pd.read_csv('../datasets/dataset_test.csv', index_col='Index')\n",
    "X = df[df.describe().columns[1:]]\n",
    "X = X.fillna(X.mean())\n",
    "X = (X - X.mean()) / X.std()"
   ]
  },
  {
   "cell_type": "code",
   "execution_count": 149,
   "id": "57d87368",
   "metadata": {},
   "outputs": [
    {
     "data": {
      "text/html": [
       "<div>\n",
       "<style scoped>\n",
       "    .dataframe tbody tr th:only-of-type {\n",
       "        vertical-align: middle;\n",
       "    }\n",
       "\n",
       "    .dataframe tbody tr th {\n",
       "        vertical-align: top;\n",
       "    }\n",
       "\n",
       "    .dataframe thead th {\n",
       "        text-align: right;\n",
       "    }\n",
       "</style>\n",
       "<table border=\"1\" class=\"dataframe\">\n",
       "  <thead>\n",
       "    <tr style=\"text-align: right;\">\n",
       "      <th>Index</th>\n",
       "      <th>0</th>\n",
       "      <th>1</th>\n",
       "      <th>2</th>\n",
       "      <th>3</th>\n",
       "      <th>4</th>\n",
       "      <th>5</th>\n",
       "      <th>6</th>\n",
       "      <th>7</th>\n",
       "      <th>8</th>\n",
       "      <th>9</th>\n",
       "      <th>10</th>\n",
       "      <th>11</th>\n",
       "      <th>12</th>\n",
       "      <th>13</th>\n",
       "    </tr>\n",
       "  </thead>\n",
       "  <tbody>\n",
       "    <tr>\n",
       "      <th>Gryffindor</th>\n",
       "      <td>-1.100667</td>\n",
       "      <td>0.671923</td>\n",
       "      <td>1.378658</td>\n",
       "      <td>-0.695780</td>\n",
       "      <td>0.621342</td>\n",
       "      <td>0.239029</td>\n",
       "      <td>-0.030084</td>\n",
       "      <td>0.895555</td>\n",
       "      <td>-0.299387</td>\n",
       "      <td>-0.422988</td>\n",
       "      <td>0.402949</td>\n",
       "      <td>0.251041</td>\n",
       "      <td>-0.554311</td>\n",
       "      <td>1.938086</td>\n",
       "    </tr>\n",
       "    <tr>\n",
       "      <th>Hufflepuff</th>\n",
       "      <td>-0.596891</td>\n",
       "      <td>0.717900</td>\n",
       "      <td>2.091792</td>\n",
       "      <td>0.828909</td>\n",
       "      <td>-0.091792</td>\n",
       "      <td>0.512309</td>\n",
       "      <td>-0.555747</td>\n",
       "      <td>-0.818885</td>\n",
       "      <td>1.142993</td>\n",
       "      <td>1.050035</td>\n",
       "      <td>0.428912</td>\n",
       "      <td>0.368041</td>\n",
       "      <td>-0.230791</td>\n",
       "      <td>0.717838</td>\n",
       "    </tr>\n",
       "    <tr>\n",
       "      <th>Ravenclaw</th>\n",
       "      <td>-0.238662</td>\n",
       "      <td>0.882371</td>\n",
       "      <td>0.310169</td>\n",
       "      <td>0.615931</td>\n",
       "      <td>1.689831</td>\n",
       "      <td>0.609028</td>\n",
       "      <td>1.612565</td>\n",
       "      <td>1.449280</td>\n",
       "      <td>0.689266</td>\n",
       "      <td>0.704814</td>\n",
       "      <td>0.881036</td>\n",
       "      <td>0.504771</td>\n",
       "      <td>1.145174</td>\n",
       "      <td>1.115164</td>\n",
       "    </tr>\n",
       "    <tr>\n",
       "      <th>Slytherin</th>\n",
       "      <td>-1.439121</td>\n",
       "      <td>0.583325</td>\n",
       "      <td>0.671351</td>\n",
       "      <td>-0.666822</td>\n",
       "      <td>1.328649</td>\n",
       "      <td>-1.007131</td>\n",
       "      <td>-0.221659</td>\n",
       "      <td>-0.257548</td>\n",
       "      <td>0.546792</td>\n",
       "      <td>0.602542</td>\n",
       "      <td>1.053743</td>\n",
       "      <td>0.220933</td>\n",
       "      <td>-0.623142</td>\n",
       "      <td>0.794925</td>\n",
       "    </tr>\n",
       "  </tbody>\n",
       "</table>\n",
       "</div>"
      ],
      "text/plain": [
       "Index             0         1         2         3         4         5   \\\n",
       "Gryffindor -1.100667  0.671923  1.378658 -0.695780  0.621342  0.239029   \n",
       "Hufflepuff -0.596891  0.717900  2.091792  0.828909 -0.091792  0.512309   \n",
       "Ravenclaw  -0.238662  0.882371  0.310169  0.615931  1.689831  0.609028   \n",
       "Slytherin  -1.439121  0.583325  0.671351 -0.666822  1.328649 -1.007131   \n",
       "\n",
       "Index             6         7         8         9         10        11  \\\n",
       "Gryffindor -0.030084  0.895555 -0.299387 -0.422988  0.402949  0.251041   \n",
       "Hufflepuff -0.555747 -0.818885  1.142993  1.050035  0.428912  0.368041   \n",
       "Ravenclaw   1.612565  1.449280  0.689266  0.704814  0.881036  0.504771   \n",
       "Slytherin  -0.221659 -0.257548  0.546792  0.602542  1.053743  0.220933   \n",
       "\n",
       "Index             12        13  \n",
       "Gryffindor -0.554311  1.938086  \n",
       "Hufflepuff -0.230791  0.717838  \n",
       "Ravenclaw   1.145174  1.115164  \n",
       "Slytherin  -0.623142  0.794925  "
      ]
     },
     "execution_count": 149,
     "metadata": {},
     "output_type": "execute_result"
    }
   ],
   "source": [
    "weight = pd.read_csv('../weight.csv', index_col=\"Index\")\n",
    "labelTransform = LabelEncoder()\n",
    "labelTransform.fit(weight.columns)\n",
    "weight.T"
   ]
  },
  {
   "cell_type": "code",
   "execution_count": 148,
   "id": "b7365943",
   "metadata": {},
   "outputs": [],
   "source": [
    "model = SlyLogRegression(lr=0.01, weight=np.array(weight.T))\n",
    "result = labelTransform.inverse_transform(model.predict(X))\n",
    "df_result = pd.DataFrame(result, columns=[current_target])\n",
    "df_result.to_csv('./houses.csv', index_label=\"Index\")"
   ]
  }
 ],
 "metadata": {
  "kernelspec": {
   "display_name": "Python 3 (ipykernel)",
   "language": "python",
   "name": "python3"
  },
  "language_info": {
   "codemirror_mode": {
    "name": "ipython",
    "version": 3
   },
   "file_extension": ".py",
   "mimetype": "text/x-python",
   "name": "python",
   "nbconvert_exporter": "python",
   "pygments_lexer": "ipython3",
   "version": "3.9.5"
  }
 },
 "nbformat": 4,
 "nbformat_minor": 5
}
